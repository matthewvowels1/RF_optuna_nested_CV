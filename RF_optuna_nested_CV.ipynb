{
 "cells": [
  {
   "cell_type": "code",
   "execution_count": 9,
   "id": "1738330b",
   "metadata": {},
   "outputs": [],
   "source": [
    "import numpy as np\n",
    "import pandas as pd\n",
    "from imblearn.ensemble import BalancedRandomForestClassifier\n",
    "from imblearn.over_sampling import RandomOverSampler \n",
    "import optuna\n",
    "from sklearn.model_selection import StratifiedKFold, train_test_split, cross_val_score\n",
    "from sklearn import datasets"
   ]
  },
  {
   "cell_type": "code",
   "execution_count": 50,
   "id": "b5bdacc1",
   "metadata": {},
   "outputs": [
    {
     "name": "stderr",
     "output_type": "stream",
     "text": [
      "\u001b[32m[I 2021-08-17 11:35:44,063]\u001b[0m A new study created in memory with name: test\u001b[0m\n"
     ]
    },
    {
     "name": "stdout",
     "output_type": "stream",
     "text": [
      "Running fold number:  0\n",
      "running optuna in first fold\n"
     ]
    },
    {
     "name": "stderr",
     "output_type": "stream",
     "text": [
      "\u001b[32m[I 2021-08-17 11:35:45,132]\u001b[0m Trial 0 finished with value: 0.5523809523809524 and parameters: {'n_estimators': 643, 'max_depth': 5}. Best is trial 0 with value: 0.5523809523809524.\u001b[0m\n",
      "\u001b[32m[I 2021-08-17 11:35:46,175]\u001b[0m Trial 1 finished with value: 0.5714285714285714 and parameters: {'n_estimators': 626, 'max_depth': 5}. Best is trial 1 with value: 0.5714285714285714.\u001b[0m\n",
      "\u001b[32m[I 2021-08-17 11:35:46,970]\u001b[0m Trial 2 finished with value: 0.5809523809523809 and parameters: {'n_estimators': 440, 'max_depth': 2}. Best is trial 2 with value: 0.5809523809523809.\u001b[0m\n",
      "\u001b[32m[I 2021-08-17 11:35:47,311]\u001b[0m Trial 3 finished with value: 0.5619047619047619 and parameters: {'n_estimators': 245, 'max_depth': 484}. Best is trial 2 with value: 0.5809523809523809.\u001b[0m\n",
      "\u001b[32m[I 2021-08-17 11:35:47,621]\u001b[0m Trial 4 finished with value: 0.5571428571428572 and parameters: {'n_estimators': 218, 'max_depth': 9}. Best is trial 2 with value: 0.5809523809523809.\u001b[0m\n"
     ]
    },
    {
     "name": "stdout",
     "output_type": "stream",
     "text": [
      "bested optuna params: {'n_estimators': 440, 'max_depth': 2}\n",
      "Running fold number:  1\n",
      "Running fold number:  2\n",
      "Running fold number:  3\n",
      "Running fold number:  4\n",
      "Running fold number:  5\n",
      "Running fold number:  6\n",
      "Running fold number:  7\n",
      "Running fold number:  8\n",
      "Running fold number:  9\n"
     ]
    }
   ],
   "source": [
    "\n",
    "diabetes = datasets.load_diabetes()\n",
    "X = diabetes.data[:200]\n",
    "y = np.round(np.random.uniform(0,1, 200))\n",
    "\n",
    "seed = 42\n",
    "n_splits = 5\n",
    "n_splits_nested = 2\n",
    "n_trials = 5\n",
    "\n",
    "\n",
    "class oversampled_Kfold():\n",
    "    def __init__(self, n_splits, n_repeats=1):\n",
    "        self.n_splits = n_splits\n",
    "        self.n_repeats = n_repeats\n",
    "\n",
    "    def get_n_splits(self, X, y, groups=None):\n",
    "        return self.n_splits*self.n_repeats\n",
    "\n",
    "    def split(self, X, y, groups=None):\n",
    "        splits = np.split(np.random.choice(len(X), len(X),replace=False), 5)\n",
    "        train, test = [], []\n",
    "        for repeat in range(self.n_repeats):\n",
    "            for idx in range(len(splits)):\n",
    "                trainingIdx = np.delete(splits, idx)\n",
    "                ros = RandomOverSampler()\n",
    "                Xidx_r, y_r = ros.fit_resample(trainingIdx.reshape(-1,1), y[trainingIdx])\n",
    "                train.append(Xidx_r.flatten())\n",
    "                test.append(splits[idx])\n",
    "        return list(zip(train, test))\n",
    "\n",
    "\n",
    "# output = cross_validate(clf,x,y, scoring=metrics,cv=rkf)\n",
    "\n",
    "\n",
    "def objective(trial):\n",
    "    n_estimators = trial.suggest_int(\"n_estimators\", 10, 1000)\n",
    "    max_depth = trial.suggest_int(\"max_depth\", 2, 500, log=True)\n",
    "    trial_config = {'n_estimators': n_estimators, 'max_depth': max_depth}\n",
    "    \n",
    "    \n",
    "    model = BalancedRandomForestClassifier(**trial_config)\n",
    "\n",
    "    score = cross_val_score(model, X_train, y_train, n_jobs=-1, cv=n_splits_nested)\n",
    "    accuracy = score.mean()\n",
    "    return accuracy\n",
    "\n",
    "\n",
    "kf = oversampled_Kfold(n_splits=5, n_repeats=2)\n",
    "\n",
    "kf_ = kf.split(X, y)\n",
    "\n",
    "f = 0\n",
    "preds = []\n",
    "probs = []\n",
    "GTs = []\n",
    "for train_index, test_index in kf_:\n",
    "    print('Running fold number: ', f)\n",
    "    \n",
    "    X_train, X_test = X[train_index], X[test_index]\n",
    "    y_train, y_test = y[train_index], y[test_index]\n",
    "    \n",
    "    if f == 0: \n",
    "        print('running optuna in first fold')\n",
    "        study = optuna.create_study(study_name='test', direction='maximize')\n",
    "        study.optimize(objective, n_trials=n_trials)\n",
    "        config = study.best_trial.params\n",
    "        print('bested optuna params:' , config)\n",
    "        \n",
    "    model = BalancedRandomForestClassifier(**config)\n",
    "    model.fit(X_train, y_train)\n",
    "    preds.append(model.predict(X_test))\n",
    "    probs.append(model.predict_proba(X_test))\n",
    "    GTs.append(y_test)\n",
    "    f += 1\n",
    "        \n",
    "preds = np.concatenate(preds)\n",
    "probs = np.concatenate(probs)\n",
    "GTs = np.concatenate(GTs)"
   ]
  },
  {
   "cell_type": "code",
   "execution_count": null,
   "id": "590b519f",
   "metadata": {},
   "outputs": [],
   "source": []
  },
  {
   "cell_type": "code",
   "execution_count": null,
   "id": "9d1f7f4d",
   "metadata": {},
   "outputs": [],
   "source": []
  }
 ],
 "metadata": {
  "kernelspec": {
   "display_name": "Python 3",
   "language": "python",
   "name": "python3"
  },
  "language_info": {
   "codemirror_mode": {
    "name": "ipython",
    "version": 3
   },
   "file_extension": ".py",
   "mimetype": "text/x-python",
   "name": "python",
   "nbconvert_exporter": "python",
   "pygments_lexer": "ipython3",
   "version": "3.7.11"
  }
 },
 "nbformat": 4,
 "nbformat_minor": 5
}
